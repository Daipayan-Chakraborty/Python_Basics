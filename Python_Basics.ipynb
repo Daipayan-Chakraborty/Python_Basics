{
  "nbformat": 4,
  "nbformat_minor": 0,
  "metadata": {
    "colab": {
      "provenance": [],
      "collapsed_sections": [
        "AzWI8_QkKA7j"
      ]
    },
    "kernelspec": {
      "name": "python3",
      "display_name": "Python 3"
    },
    "language_info": {
      "name": "python"
    }
  },
  "cells": [
    {
      "cell_type": "markdown",
      "source": [
        "# **Python_basics**"
      ],
      "metadata": {
        "id": "AzWI8_QkKA7j"
      }
    },
    {
      "cell_type": "code",
      "source": [
        "#Q1 Program to calculate the length of the string without using function\n",
        "\n",
        "a = input()\n",
        "#print(type(a))\n",
        "count=0\n",
        "for i in a:\n",
        "  count = count + 1\n",
        "print(count)\n"
      ],
      "metadata": {
        "colab": {
          "base_uri": "https://localhost:8080/"
        },
        "id": "VlHhLT79KLqJ",
        "outputId": "98461f90-c48a-409c-84e1-d59affcba8d0"
      },
      "execution_count": null,
      "outputs": [
        {
          "output_type": "stream",
          "name": "stdout",
          "text": [
            "Daipayan Chakroborty\n",
            "20\n"
          ]
        }
      ]
    },
    {
      "cell_type": "code",
      "source": [
        "#Q2 To display which letter is there in first string but not in second string\n",
        "\n",
        "a = input()\n",
        "b = input()\n",
        "#bucket=0\n",
        "for i in a:\n",
        "  if i not in b:\n",
        "    print(i)\n"
      ],
      "metadata": {
        "colab": {
          "base_uri": "https://localhost:8080/"
        },
        "id": "G7l8sOdpSgSL",
        "outputId": "db3115de-48e6-43d4-e3d6-5fda179b2248"
      },
      "execution_count": null,
      "outputs": [
        {
          "output_type": "stream",
          "name": "stdout",
          "text": [
            "Ramu\n",
            "amu\n",
            "R\n"
          ]
        }
      ]
    },
    {
      "cell_type": "code",
      "source": [
        "#Q3 Write a program to swap two numbers\n",
        "\n",
        "a = int(input())\n",
        "b = int(input())\n",
        "'''\n",
        "c=a\n",
        "a=b\n",
        "b=c\n",
        "print(a,b)\n",
        "'''\n",
        "a,b=b,a\n",
        "print(a,b)\n"
      ],
      "metadata": {
        "colab": {
          "base_uri": "https://localhost:8080/"
        },
        "id": "Xe9jAnR5jRIb",
        "outputId": "708cd4cf-4f1b-419f-b604-416de4ab89db"
      },
      "execution_count": null,
      "outputs": [
        {
          "output_type": "stream",
          "name": "stdout",
          "text": [
            "2\n",
            "4\n",
            "4 2\n"
          ]
        }
      ]
    },
    {
      "cell_type": "code",
      "source": [
        "#Q4 Write a program to map 2 list into a dictionary\n",
        "\n",
        "a = [\"Apple\", \"Football\", \"Books\"]\n",
        "b = [\"Fruit\", \"Sport\", \"Study\"]\n",
        "\n",
        "c = {}\n",
        "count=0\n",
        "for i in a:\n",
        "  count = count + 1\n",
        "\n",
        "for i in range(0,count):\n",
        "  c.update({a[i]:b[i]})\n",
        "\n",
        "print(c)\n"
      ],
      "metadata": {
        "colab": {
          "base_uri": "https://localhost:8080/"
        },
        "id": "4t3iJwO9p0AS",
        "outputId": "3bf0e0cd-fa69-4887-e035-c11e3d80ca88"
      },
      "execution_count": null,
      "outputs": [
        {
          "output_type": "stream",
          "name": "stdout",
          "text": [
            "0\n",
            "1\n",
            "2\n",
            "{'Apple': 'Fruit', 'Football': 'Sport', 'Books': 'Study'}\n"
          ]
        }
      ]
    },
    {
      "cell_type": "code",
      "source": [
        "#Q5 write a program to count the number of times a letter has appears in the text file\n",
        "\n",
        "Data = open(\"newfile.txt\",\"w\")\n",
        "Data.write(\"Daipayan Chakroborty\")\n",
        "Data.close()\n",
        "\n",
        "a= input()\n",
        "count=0\n",
        "\n",
        "Data = open(\"newfile.txt\",\"r\")\n",
        "for i in Data.read():\n",
        "  if i==a:\n",
        "    count=count+1\n",
        "print(count)\n"
      ],
      "metadata": {
        "colab": {
          "base_uri": "https://localhost:8080/"
        },
        "id": "sVAP4awYFKJ1",
        "outputId": "4faa4a99-b130-4702-fe9f-6e7f13fb6c98"
      },
      "execution_count": null,
      "outputs": [
        {
          "output_type": "stream",
          "name": "stdout",
          "text": [
            "a\n",
            "4\n"
          ]
        }
      ]
    },
    {
      "cell_type": "code",
      "source": [
        "#Q6 To find th valid email_id and 10 digit number in the given string\n",
        "\n",
        "import re\n",
        "\n",
        "email = '^([A-Z|a-z])+\\d*[^.]@[a-z]+.[a-z]+'\n",
        "mobile_no = '^[0-9]{10}$'\n",
        "\n",
        "user_mail = input()\n",
        "user_mobile_number = input()\n",
        "\n",
        "if(re.search(email,user_mail)):\n",
        "  print(\"Valid email\")\n",
        "else:\n",
        "  print(\"Invalid email\")\n",
        "\n",
        "if(re.search(mobile_no,user_mobile_number)):\n",
        "  print(\"Valid number\")\n",
        "else:\n",
        "  print(\"Invalid number\")\n"
      ],
      "metadata": {
        "colab": {
          "base_uri": "https://localhost:8080/"
        },
        "id": "3R6We98mi04d",
        "outputId": "3c18212c-6899-4c12-925f-48ee253837bd"
      },
      "execution_count": null,
      "outputs": [
        {
          "output_type": "stream",
          "name": "stdout",
          "text": [
            "doi@gmail.com\n",
            "9176408519\n",
            "Valid email\n",
            "Valid number\n"
          ]
        }
      ]
    },
    {
      "cell_type": "code",
      "source": [
        "#Q7 To find the sum of square of even numbers in the given list\n",
        "\n",
        "'''\n",
        "find the even numbers\n",
        "do square of the even numbers\n",
        "and then add the numbers \n",
        "'''\n",
        "\n",
        "user = list(map(int,(input().split())))\n",
        "#even_numbers = []\n",
        "#sq_even_numbers = []\n",
        "#count = 0\n",
        "sum = 0\n",
        "'''\n",
        "for i in user:\n",
        "  if i % 2 == 0:\n",
        "    sum = sum + i**2\n",
        "    even_numbers.append(i)\n",
        "\n",
        "for i in even_numbers:\n",
        "  count = i**2\n",
        "  sq_even_numbers.append(count)\n",
        "\n",
        "for i in sq_even_numbers:\n",
        "  sum = sum + i\n",
        "'''\n",
        "\n",
        "for i in user:\n",
        "  if i % 2 == 0:\n",
        "    sum = sum + i**2\n",
        "print(sum)\n"
      ],
      "metadata": {
        "colab": {
          "base_uri": "https://localhost:8080/"
        },
        "id": "r6oN3tLhv_2p",
        "outputId": "410f8ba2-e77b-45fc-99e0-1fa42e2371e8"
      },
      "execution_count": null,
      "outputs": [
        {
          "output_type": "stream",
          "name": "stdout",
          "text": [
            "1 2 3 4 5 6 7 8 9 10\n",
            "220\n"
          ]
        }
      ]
    },
    {
      "cell_type": "code",
      "source": [
        "#Q8 Create a pickle file to store your dictionary\n",
        "\n",
        "import pickle\n",
        "# initializing data to be stored in db\n",
        "record = {'key' : 'Omkar', 'pay' : 40000}\n",
        "  \n",
        "# database\n",
        "#db = {}\n",
        "#db['Omkar'] = Omkar\n",
        "#db['Jagdish'] = Jagdish\n",
        "\n",
        "\n",
        "# Its important to use binary mode\n",
        "dbfile = open('examplePickle', 'wb')\n",
        "pickle.dump(record, dbfile)                     \n",
        "dbfile.close()\n",
        "\n",
        "dbfile = open('examplePickle', 'rb')\n",
        "db= pickle.load(dbfile) \n",
        "dbfile.close()\n",
        "\n",
        "print(db)\n",
        "\n",
        "\n",
        "#print(myEntry)"
      ],
      "metadata": {
        "colab": {
          "base_uri": "https://localhost:8080/"
        },
        "id": "DXOHrKTyD3qH",
        "outputId": "faaa0dd6-0a92-4b35-cfad-c4c7ffc8f550"
      },
      "execution_count": null,
      "outputs": [
        {
          "output_type": "stream",
          "name": "stdout",
          "text": [
            "{'key': 'Omkar', 'pay': 40000}\n"
          ]
        }
      ]
    }
  ]
}
